{
 "cells": [
  {
   "cell_type": "markdown",
   "id": "295f9376",
   "metadata": {},
   "source": [
    "# PYTHON"
   ]
  },
  {
   "cell_type": "markdown",
   "id": "ede6ddba",
   "metadata": {},
   "source": [
    "Python adalah bahasa pemrograman yang banyak digunakan dalam aplikasi web, pengembangan perangkat lunak, ilmu data dan machine learning(ML)."
   ]
  },
  {
   "cell_type": "code",
   "execution_count": 3,
   "id": "ee317b14",
   "metadata": {},
   "outputs": [
    {
     "data": {
      "text/plain": [
       "82"
      ]
     },
     "execution_count": 3,
     "metadata": {},
     "output_type": "execute_result"
    }
   ],
   "source": [
    "#Python bisa digunakan utuk kalkulator\n",
    "50+32"
   ]
  },
  {
   "cell_type": "code",
   "execution_count": 4,
   "id": "ccbaefe4",
   "metadata": {},
   "outputs": [
    {
     "data": {
      "text/plain": [
       "35.0"
      ]
     },
     "execution_count": 4,
     "metadata": {},
     "output_type": "execute_result"
    }
   ],
   "source": [
    "70/2"
   ]
  },
  {
   "cell_type": "markdown",
   "id": "3a76528e",
   "metadata": {},
   "source": [
    "# TIPE DATA"
   ]
  },
  {
   "cell_type": "markdown",
   "id": "5f54a611",
   "metadata": {},
   "source": [
    "# Integer"
   ]
  },
  {
   "cell_type": "code",
   "execution_count": 5,
   "id": "b26912f9",
   "metadata": {},
   "outputs": [
    {
     "data": {
      "text/plain": [
       "1234"
      ]
     },
     "execution_count": 5,
     "metadata": {},
     "output_type": "execute_result"
    }
   ],
   "source": [
    "1234"
   ]
  },
  {
   "cell_type": "code",
   "execution_count": 6,
   "id": "d98f109c",
   "metadata": {},
   "outputs": [
    {
     "data": {
      "text/plain": [
       "-354"
      ]
     },
     "execution_count": 6,
     "metadata": {},
     "output_type": "execute_result"
    }
   ],
   "source": [
    "-354"
   ]
  },
  {
   "cell_type": "code",
   "execution_count": 10,
   "id": "e0c64027",
   "metadata": {},
   "outputs": [
    {
     "name": "stdout",
     "output_type": "stream",
     "text": [
      "20\n",
      "<class 'int'>\n"
     ]
    }
   ],
   "source": [
    "print(20)\n",
    "print(type(20))"
   ]
  },
  {
   "cell_type": "markdown",
   "id": "08a2e431",
   "metadata": {},
   "source": [
    "# Float : bilangan desimal"
   ]
  },
  {
   "cell_type": "code",
   "execution_count": 7,
   "id": "701216b1",
   "metadata": {},
   "outputs": [
    {
     "data": {
      "text/plain": [
       "2.3"
      ]
     },
     "execution_count": 7,
     "metadata": {},
     "output_type": "execute_result"
    }
   ],
   "source": [
    "2.3"
   ]
  },
  {
   "cell_type": "code",
   "execution_count": 12,
   "id": "01ed535a",
   "metadata": {},
   "outputs": [
    {
     "name": "stdout",
     "output_type": "stream",
     "text": [
      "4.2\n",
      "0.4\n",
      "<class 'float'>\n",
      "0.4\n",
      "4000000.0\n",
      "0.00042\n"
     ]
    }
   ],
   "source": [
    "print(4.2)\n",
    "print(0.4)\n",
    "print(type(0.4))\n",
    "print(.4)\n",
    "print(.4e7)\n",
    "print(4.2e-4)"
   ]
  },
  {
   "cell_type": "markdown",
   "id": "a37348e4",
   "metadata": {},
   "source": [
    "# String : kata"
   ]
  },
  {
   "cell_type": "code",
   "execution_count": 15,
   "id": "714d954d",
   "metadata": {},
   "outputs": [
    {
     "name": "stdout",
     "output_type": "stream",
     "text": [
      "Hello word\n",
      "1234\n",
      "Hacktiv8\n",
      "This string contains a quote(\")\n",
      "This string contains a quote(')\n",
      "<class 'str'>\n"
     ]
    }
   ],
   "source": [
    "print(\"Hello word\")\n",
    "print(\"1234\")\n",
    "print(\"Hacktiv8\")\n",
    "print('This string contains a quote(\")')\n",
    "print(\"This string contains a quote(')\")\n",
    "print(type(\"Hello word\"))"
   ]
  },
  {
   "cell_type": "markdown",
   "id": "c96900e3",
   "metadata": {},
   "source": [
    "# Boolean\n",
    "Untuk Menyatakan nilai suatu data (true/false)\n"
   ]
  },
  {
   "cell_type": "code",
   "execution_count": 17,
   "id": "ae2c2780",
   "metadata": {},
   "outputs": [
    {
     "name": "stdout",
     "output_type": "stream",
     "text": [
      "True\n",
      "False\n",
      "<class 'bool'>\n"
     ]
    }
   ],
   "source": [
    "print(True)\n",
    "print(False)\n",
    "print(type(True))"
   ]
  },
  {
   "cell_type": "markdown",
   "id": "625dfd50",
   "metadata": {},
   "source": [
    "# Variabel Assignment\n",
    "Untuk mendefinisikan nilai dari suatu variabel, dinyatakan dengan tanda (=),\n",
    "Nilainya bisa diubah-ubah\n",
    "\n"
   ]
  },
  {
   "cell_type": "code",
   "execution_count": 18,
   "id": "0127e83d",
   "metadata": {},
   "outputs": [],
   "source": [
    "x = 300"
   ]
  },
  {
   "cell_type": "code",
   "execution_count": 19,
   "id": "37d5b288",
   "metadata": {},
   "outputs": [
    {
     "name": "stdout",
     "output_type": "stream",
     "text": [
      "300\n"
     ]
    }
   ],
   "source": [
    "print(x)"
   ]
  },
  {
   "cell_type": "code",
   "execution_count": 20,
   "id": "28769228",
   "metadata": {},
   "outputs": [
    {
     "name": "stdout",
     "output_type": "stream",
     "text": [
      "365\n"
     ]
    }
   ],
   "source": [
    "x = 300 + 65\n",
    "print(x)"
   ]
  },
  {
   "cell_type": "code",
   "execution_count": 21,
   "id": "69d4cea7",
   "metadata": {},
   "outputs": [
    {
     "name": "stdout",
     "output_type": "stream",
     "text": [
      "300\n",
      "300\n",
      "300\n"
     ]
    }
   ],
   "source": [
    "a=b=c=300\n",
    "print(a)\n",
    "print(b)\n",
    "print(c)"
   ]
  },
  {
   "cell_type": "code",
   "execution_count": 22,
   "id": "7ff211ff",
   "metadata": {},
   "outputs": [
    {
     "name": "stdout",
     "output_type": "stream",
     "text": [
      "<class 'int'>\n"
     ]
    }
   ],
   "source": [
    "print(type(a))"
   ]
  },
  {
   "cell_type": "markdown",
   "id": "0d69ebe3",
   "metadata": {},
   "source": [
    "# Tipe Variabel\n",
    "Di python, variabel dapat diberi value dari satu jenis kemudian diberi value dari jenis lain"
   ]
  },
  {
   "cell_type": "code",
   "execution_count": 23,
   "id": "b5c0cf20",
   "metadata": {},
   "outputs": [],
   "source": [
    "a=23.4\n",
    "b=True\n",
    "c=\"ABCDEFG\"\n",
    "d=5"
   ]
  },
  {
   "cell_type": "code",
   "execution_count": 25,
   "id": "d1913c8b",
   "metadata": {},
   "outputs": [
    {
     "name": "stdout",
     "output_type": "stream",
     "text": [
      "<class 'float'>\n",
      "<class 'bool'>\n",
      "<class 'str'>\n",
      "<class 'int'>\n"
     ]
    }
   ],
   "source": [
    "print(type(a))\n",
    "print(type(b))\n",
    "print(type(c))\n",
    "print(type(d))"
   ]
  },
  {
   "cell_type": "code",
   "execution_count": 26,
   "id": "29a0239f",
   "metadata": {},
   "outputs": [
    {
     "name": "stdout",
     "output_type": "stream",
     "text": [
      "23.4\n",
      "STRING\n"
     ]
    }
   ],
   "source": [
    "a=23.4\n",
    "print(a)\n",
    "a=\"STRING\"\n",
    "print(a)"
   ]
  },
  {
   "cell_type": "markdown",
   "id": "6e111b79",
   "metadata": {},
   "source": [
    "# Nama Variabel\n",
    "-Panjangnya tidak dibatasi\n",
    "-Bisa terdiri dari huruf besar dan keci(A-Z,a-z), digit(0-9) dan garis bawah(_)\n",
    "-Karakter pertama tidak boleh berupa digit/angka"
   ]
  },
  {
   "cell_type": "code",
   "execution_count": 27,
   "id": "269ae8a0",
   "metadata": {},
   "outputs": [
    {
     "name": "stdout",
     "output_type": "stream",
     "text": [
      "STRING\n",
      "dfgh\n"
     ]
    }
   ],
   "source": [
    "A = \"dfgh\"\n",
    "print(a)\n",
    "print(A)"
   ]
  },
  {
   "cell_type": "code",
   "execution_count": 28,
   "id": "a60609cb",
   "metadata": {},
   "outputs": [
    {
     "name": "stdout",
     "output_type": "stream",
     "text": [
      "Nur 20 True\n"
     ]
    }
   ],
   "source": [
    "nama_depan = \"Nur\"\n",
    "umur = 20\n",
    "has_laptops = True\n",
    "print(nama_depan,umur,has_laptops)"
   ]
  },
  {
   "cell_type": "code",
   "execution_count": 29,
   "id": "562ea94b",
   "metadata": {},
   "outputs": [
    {
     "ename": "SyntaxError",
     "evalue": "invalid syntax (1385608052.py, line 1)",
     "output_type": "error",
     "traceback": [
      "\u001b[1;36m  File \u001b[1;32m\"C:\\Users\\user\\AppData\\Local\\Temp\\ipykernel_8796\\1385608052.py\"\u001b[1;36m, line \u001b[1;32m1\u001b[0m\n\u001b[1;33m    10naga = 123\u001b[0m\n\u001b[1;37m      ^\u001b[0m\n\u001b[1;31mSyntaxError\u001b[0m\u001b[1;31m:\u001b[0m invalid syntax\n"
     ]
    }
   ],
   "source": [
    "10naga = 123"
   ]
  },
  {
   "cell_type": "code",
   "execution_count": 31,
   "id": "03d1456d",
   "metadata": {},
   "outputs": [
    {
     "name": "stdout",
     "output_type": "stream",
     "text": [
      "123\n"
     ]
    }
   ],
   "source": [
    "naga10 = 123\n",
    "print(naga10)"
   ]
  },
  {
   "cell_type": "markdown",
   "id": "89f73e3d",
   "metadata": {},
   "source": [
    "# Operators"
   ]
  },
  {
   "cell_type": "code",
   "execution_count": 39,
   "id": "8f43d215",
   "metadata": {},
   "outputs": [
    {
     "data": {
      "text/plain": [
       "12"
      ]
     },
     "execution_count": 39,
     "metadata": {},
     "output_type": "execute_result"
    }
   ],
   "source": [
    "#penjumlahan\n",
    "5+7"
   ]
  },
  {
   "cell_type": "code",
   "execution_count": 38,
   "id": "73013eca",
   "metadata": {},
   "outputs": [
    {
     "data": {
      "text/plain": [
       "-3"
      ]
     },
     "execution_count": 38,
     "metadata": {},
     "output_type": "execute_result"
    }
   ],
   "source": [
    "#pengurangan\n",
    "4 - 7"
   ]
  },
  {
   "cell_type": "code",
   "execution_count": 37,
   "id": "c00ef5b2",
   "metadata": {},
   "outputs": [
    {
     "data": {
      "text/plain": [
       "15"
      ]
     },
     "execution_count": 37,
     "metadata": {},
     "output_type": "execute_result"
    }
   ],
   "source": [
    "#perkalian\n",
    "3 * 5"
   ]
  },
  {
   "cell_type": "code",
   "execution_count": 35,
   "id": "1348e28a",
   "metadata": {},
   "outputs": [
    {
     "data": {
      "text/plain": [
       "0.7"
      ]
     },
     "execution_count": 35,
     "metadata": {},
     "output_type": "execute_result"
    }
   ],
   "source": [
    "#pembagian\n",
    "7/10"
   ]
  },
  {
   "cell_type": "code",
   "execution_count": 40,
   "id": "4ca00e1d",
   "metadata": {},
   "outputs": [
    {
     "data": {
      "text/plain": [
       "8"
      ]
     },
     "execution_count": 40,
     "metadata": {},
     "output_type": "execute_result"
    }
   ],
   "source": [
    "#perpangkatan\n",
    "2**3"
   ]
  },
  {
   "cell_type": "code",
   "execution_count": 42,
   "id": "67ef0cd5",
   "metadata": {},
   "outputs": [
    {
     "data": {
      "text/plain": [
       "1"
      ]
     },
     "execution_count": 42,
     "metadata": {},
     "output_type": "execute_result"
    }
   ],
   "source": [
    "#modulus/sisa bagi\n",
    "15%7"
   ]
  },
  {
   "cell_type": "code",
   "execution_count": 43,
   "id": "ed5e8c8d",
   "metadata": {},
   "outputs": [
    {
     "name": "stdout",
     "output_type": "stream",
     "text": [
      "30\n",
      "9\n"
     ]
    }
   ],
   "source": [
    "a=5\n",
    "b=6\n",
    "print(a*b)\n",
    "print(a+b-2)"
   ]
  },
  {
   "cell_type": "markdown",
   "id": "1686a236",
   "metadata": {},
   "source": [
    "## Comparison : membandingkan antara 2 nilai"
   ]
  },
  {
   "cell_type": "code",
   "execution_count": 44,
   "id": "0769acb6",
   "metadata": {},
   "outputs": [
    {
     "name": "stdout",
     "output_type": "stream",
     "text": [
      "False\n",
      "True\n",
      "True\n",
      "False\n",
      "True\n"
     ]
    }
   ],
   "source": [
    "a=10\n",
    "b=20\n",
    "print(a == b)\n",
    "print(a != b)\n",
    "print(a <= b)\n",
    "print(a >= b)\n",
    "print(a < b)"
   ]
  },
  {
   "cell_type": "markdown",
   "id": "b9c0779c",
   "metadata": {},
   "source": [
    "# String Manipulation"
   ]
  },
  {
   "cell_type": "code",
   "execution_count": 45,
   "id": "01ce34d5",
   "metadata": {},
   "outputs": [],
   "source": [
    "a = 'abc'\n",
    "b = 'def'\n",
    "c = 'hij'"
   ]
  },
  {
   "cell_type": "code",
   "execution_count": 48,
   "id": "09998d84",
   "metadata": {},
   "outputs": [
    {
     "name": "stdout",
     "output_type": "stream",
     "text": [
      "abcdef\n",
      "abc def\n"
     ]
    }
   ],
   "source": [
    "#Operasi penjumlahan(+)\n",
    "print(a + b) #digabung tanpa spasi\n",
    "print(a + \" \" + b) #menambah spasi dg menambah string setelah a "
   ]
  },
  {
   "cell_type": "code",
   "execution_count": 49,
   "id": "9ff2ae05",
   "metadata": {},
   "outputs": [
    {
     "data": {
      "text/plain": [
       "'abcabcabcabc'"
      ]
     },
     "execution_count": 49,
     "metadata": {},
     "output_type": "execute_result"
    }
   ],
   "source": [
    "#Operasi perkalian(*)\n",
    "x = 'abc'\n",
    "x * 4"
   ]
  },
  {
   "cell_type": "code",
   "execution_count": 50,
   "id": "084f0c10",
   "metadata": {},
   "outputs": [
    {
     "data": {
      "text/plain": [
       "False"
      ]
     },
     "execution_count": 50,
     "metadata": {},
     "output_type": "execute_result"
    }
   ],
   "source": [
    "# in operator : untuk mengecek apakah variabel(s) ada di dalam string\n",
    "s = 'foo'\n",
    "s in \"That is good for us\""
   ]
  },
  {
   "cell_type": "code",
   "execution_count": 52,
   "id": "8e73b1d7",
   "metadata": {},
   "outputs": [
    {
     "data": {
      "text/plain": [
       "False"
      ]
     },
     "execution_count": 52,
     "metadata": {},
     "output_type": "execute_result"
    }
   ],
   "source": [
    "#membandingakn string : berdasarkan urutan abjad\n",
    "\"one\" > \"two\""
   ]
  },
  {
   "cell_type": "code",
   "execution_count": 53,
   "id": "f041a6a2",
   "metadata": {},
   "outputs": [
    {
     "data": {
      "text/plain": [
       "True"
      ]
     },
     "execution_count": 53,
     "metadata": {},
     "output_type": "execute_result"
    }
   ],
   "source": [
    "\"a\" < \"b\""
   ]
  },
  {
   "cell_type": "code",
   "execution_count": 54,
   "id": "5f4366c6",
   "metadata": {},
   "outputs": [
    {
     "data": {
      "text/plain": [
       "True"
      ]
     },
     "execution_count": 54,
     "metadata": {},
     "output_type": "execute_result"
    }
   ],
   "source": [
    "\"alif\" < \"zahra\""
   ]
  },
  {
   "cell_type": "code",
   "execution_count": 55,
   "id": "044b9f9d",
   "metadata": {},
   "outputs": [
    {
     "name": "stdout",
     "output_type": "stream",
     "text": [
      "Hacktiv8\n",
      "hacktiv8\n",
      "HACKtiv8\n",
      "Hacktiv8\n",
      "HACKTIV8\n"
     ]
    }
   ],
   "source": [
    "#Case Conversion\n",
    "s = 'hackTIV8'\n",
    "#Capitalize\n",
    "print(s.capitalize())\n",
    "#Lower\n",
    "print(s.lower())\n",
    "#Swapcase\n",
    "print(s.swapcase())\n",
    "#Title\n",
    "print(s.title())\n",
    "#Uppercase\n",
    "print(s.upper())"
   ]
  },
  {
   "cell_type": "markdown",
   "id": "412b6958",
   "metadata": {},
   "source": [
    "# List"
   ]
  },
  {
   "cell_type": "code",
   "execution_count": 56,
   "id": "b3b23119",
   "metadata": {},
   "outputs": [],
   "source": [
    "list1 = [1,2,3,4,5]\n",
    "list2 = [\"abc\",\"def\",\"hij\"]\n",
    "list3 = [\"abc\",3.4,1, True]"
   ]
  },
  {
   "cell_type": "code",
   "execution_count": 57,
   "id": "86e36b5c",
   "metadata": {},
   "outputs": [
    {
     "name": "stdout",
     "output_type": "stream",
     "text": [
      "[1, 2, 3, 4, 5]\n",
      "['abc', 'def', 'hij']\n",
      "['abc', 3.4, 1, True]\n"
     ]
    }
   ],
   "source": [
    "print(list1)\n",
    "print(list2)\n",
    "print(list3)"
   ]
  },
  {
   "cell_type": "code",
   "execution_count": 61,
   "id": "a1e513fc",
   "metadata": {},
   "outputs": [
    {
     "data": {
      "text/plain": [
       "1"
      ]
     },
     "execution_count": 61,
     "metadata": {},
     "output_type": "execute_result"
    }
   ],
   "source": [
    "#memanggil anggota dari list, urutan dimulai dari 0\n",
    "list1[0]"
   ]
  },
  {
   "cell_type": "code",
   "execution_count": 64,
   "id": "ab6b939e",
   "metadata": {},
   "outputs": [
    {
     "data": {
      "text/plain": [
       "'hij'"
      ]
     },
     "execution_count": 64,
     "metadata": {},
     "output_type": "execute_result"
    }
   ],
   "source": [
    "list2[2]"
   ]
  },
  {
   "cell_type": "code",
   "execution_count": 65,
   "id": "7508e807",
   "metadata": {},
   "outputs": [
    {
     "data": {
      "text/plain": [
       "'def'"
      ]
     },
     "execution_count": 65,
     "metadata": {},
     "output_type": "execute_result"
    }
   ],
   "source": [
    "#jika negatif maka dihitung dari belakang\n",
    "list2[-2]"
   ]
  },
  {
   "cell_type": "code",
   "execution_count": 66,
   "id": "a4456184",
   "metadata": {},
   "outputs": [
    {
     "data": {
      "text/plain": [
       "True"
      ]
     },
     "execution_count": 66,
     "metadata": {},
     "output_type": "execute_result"
    }
   ],
   "source": [
    "list2[-1] == list2[2]"
   ]
  },
  {
   "cell_type": "code",
   "execution_count": 68,
   "id": "bcaa0530",
   "metadata": {},
   "outputs": [
    {
     "data": {
      "text/plain": [
       "['abc', 3.4, 1]"
      ]
     },
     "execution_count": 68,
     "metadata": {},
     "output_type": "execute_result"
    }
   ],
   "source": [
    "list3[0:3]"
   ]
  },
  {
   "cell_type": "code",
   "execution_count": 69,
   "id": "aae5d2fa",
   "metadata": {},
   "outputs": [
    {
     "data": {
      "text/plain": [
       "[1, 2, 3, 4, 5, 'abc', 'def', 'hij']"
      ]
     },
     "execution_count": 69,
     "metadata": {},
     "output_type": "execute_result"
    }
   ],
   "source": [
    "#Operasi + dan *\n",
    "list1 + list2"
   ]
  },
  {
   "cell_type": "code",
   "execution_count": 70,
   "id": "05b22a67",
   "metadata": {},
   "outputs": [
    {
     "data": {
      "text/plain": [
       "['abc', 'def', 'hij', 'nur', 'khofi', 'fah']"
      ]
     },
     "execution_count": 70,
     "metadata": {},
     "output_type": "execute_result"
    }
   ],
   "source": [
    "list2 + ['nur','khofi','fah']"
   ]
  },
  {
   "cell_type": "code",
   "execution_count": 72,
   "id": "5405c9f5",
   "metadata": {},
   "outputs": [
    {
     "data": {
      "text/plain": [
       "['abc', 'def', 'hij', 'abc', 'def', 'hij', 'abc', 'def', 'hij']"
      ]
     },
     "execution_count": 72,
     "metadata": {},
     "output_type": "execute_result"
    }
   ],
   "source": [
    "list2*3"
   ]
  },
  {
   "cell_type": "code",
   "execution_count": 73,
   "id": "ad5ba4de",
   "metadata": {},
   "outputs": [
    {
     "name": "stdout",
     "output_type": "stream",
     "text": [
      "5\n",
      "1\n",
      "5\n"
     ]
    }
   ],
   "source": [
    "print(len(list1)) #menghitung banyak/panjang data\n",
    "print(min(list1))\n",
    "print(max(list1))"
   ]
  },
  {
   "cell_type": "code",
   "execution_count": 74,
   "id": "ffa8a453",
   "metadata": {},
   "outputs": [
    {
     "name": "stdout",
     "output_type": "stream",
     "text": [
      "['abc', 'hij']\n"
     ]
    }
   ],
   "source": [
    "#menghapus anggota dalam list\n",
    "del list2[1]\n",
    "print(list2)"
   ]
  },
  {
   "cell_type": "code",
   "execution_count": 75,
   "id": "b72a7534",
   "metadata": {},
   "outputs": [
    {
     "name": "stdout",
     "output_type": "stream",
     "text": [
      "['abc', 2, 'hij']\n"
     ]
    }
   ],
   "source": [
    "#mengubah anggota list\n",
    "list2 = [\"abc\",\"def\",\"hij\"]\n",
    "list2[1] = 2\n",
    "print(list2)"
   ]
  },
  {
   "cell_type": "code",
   "execution_count": 77,
   "id": "c01e2f1d",
   "metadata": {},
   "outputs": [
    {
     "name": "stdout",
     "output_type": "stream",
     "text": [
      "['kho', 'fi']\n",
      "['nur', 1.1, 2.2, 3.3, 'fah']\n"
     ]
    }
   ],
   "source": [
    "#mengubah beberapa elemen yg bersebelahan sekaligus\n",
    "a = ['nur','kho','fi','fah']\n",
    "print(a[1:3]) \n",
    "a[1:3] = [1.1,2.2,3.3]\n",
    "print(a)"
   ]
  },
  {
   "cell_type": "markdown",
   "id": "0efd5595",
   "metadata": {},
   "source": [
    "# Tuples\n",
    "versi sederhana dari list, menggunakan tanda kurung(), dan tidak bisa diubah."
   ]
  },
  {
   "cell_type": "code",
   "execution_count": 78,
   "id": "451fc0a2",
   "metadata": {},
   "outputs": [
    {
     "name": "stdout",
     "output_type": "stream",
     "text": [
      "[1, 2, 3, 4, 100]\n",
      "['abc', 'def', 'hij', 'klm', 'nop']\n"
     ]
    }
   ],
   "source": [
    "tuple1 = [1,2,3,4,100]\n",
    "tuple2 = [\"abc\", \"def\", \"hij\", \"klm\", \"nop\"]\n",
    "print(tuple1)\n",
    "print(tuple2)"
   ]
  },
  {
   "cell_type": "code",
   "execution_count": 79,
   "id": "dfa2be4a",
   "metadata": {},
   "outputs": [
    {
     "data": {
      "text/plain": [
       "'hij'"
      ]
     },
     "execution_count": 79,
     "metadata": {},
     "output_type": "execute_result"
    }
   ],
   "source": [
    "tuple2[2]"
   ]
  },
  {
   "cell_type": "code",
   "execution_count": 80,
   "id": "35959f29",
   "metadata": {},
   "outputs": [],
   "source": [
    "(a,b,c,d,e) = tuple1"
   ]
  },
  {
   "cell_type": "code",
   "execution_count": 81,
   "id": "028a3a05",
   "metadata": {},
   "outputs": [
    {
     "name": "stdout",
     "output_type": "stream",
     "text": [
      "1\n",
      "2\n",
      "3\n"
     ]
    }
   ],
   "source": [
    "print(a)\n",
    "print(b)\n",
    "print(c)"
   ]
  },
  {
   "cell_type": "markdown",
   "id": "a46110da",
   "metadata": {},
   "source": [
    "# Dictionary\n",
    "lebih dikenal sbg associative array, terdiri dari key-value pairs."
   ]
  },
  {
   "cell_type": "code",
   "execution_count": 82,
   "id": "642505a9",
   "metadata": {},
   "outputs": [],
   "source": [
    "dictionary1 = {\n",
    "    'pertama':1,\n",
    "    'kedua':2,\n",
    "    'ketiga': 3,\n",
    "    'keempat': 4\n",
    "}"
   ]
  },
  {
   "cell_type": "code",
   "execution_count": 83,
   "id": "9d7d9fc7",
   "metadata": {},
   "outputs": [
    {
     "data": {
      "text/plain": [
       "3"
      ]
     },
     "execution_count": 83,
     "metadata": {},
     "output_type": "execute_result"
    }
   ],
   "source": [
    "dictionary1['ketiga']"
   ]
  },
  {
   "cell_type": "code",
   "execution_count": 84,
   "id": "72621c00",
   "metadata": {},
   "outputs": [],
   "source": [
    "dictionary2 = {\n",
    "    'London': 'Arsenal FC',\n",
    "    'Liverpool': 'Liverpool FC',\n",
    "    'Manchaster': 'Manchaster City'\n",
    "}"
   ]
  },
  {
   "cell_type": "code",
   "execution_count": 85,
   "id": "10ddc8e6",
   "metadata": {},
   "outputs": [
    {
     "data": {
      "text/plain": [
       "'Arsenal FC'"
      ]
     },
     "execution_count": 85,
     "metadata": {},
     "output_type": "execute_result"
    }
   ],
   "source": [
    "dictionary2['London']"
   ]
  },
  {
   "cell_type": "code",
   "execution_count": 87,
   "id": "4974e85d",
   "metadata": {},
   "outputs": [
    {
     "data": {
      "text/plain": [
       "{'London': 'Spurs',\n",
       " 'Liverpool': 'Liverpool FC',\n",
       " 'Manchaster': 'Manchaster City'}"
      ]
     },
     "execution_count": 87,
     "metadata": {},
     "output_type": "execute_result"
    }
   ],
   "source": [
    "# jika mau mengubah isis\n",
    "dictionary2['London'] = 'Spurs'\n",
    "dictionary2"
   ]
  },
  {
   "cell_type": "code",
   "execution_count": 88,
   "id": "56b166e4",
   "metadata": {},
   "outputs": [
    {
     "data": {
      "text/plain": [
       "{'Liverpool': 'Liverpool FC', 'Manchaster': 'Manchaster City'}"
      ]
     },
     "execution_count": 88,
     "metadata": {},
     "output_type": "execute_result"
    }
   ],
   "source": [
    "#jika ingin menghapus anggota dictionary\n",
    "del dictionary2['London']\n",
    "dictionary2"
   ]
  },
  {
   "cell_type": "code",
   "execution_count": 89,
   "id": "25cdb3cb",
   "metadata": {},
   "outputs": [],
   "source": [
    "data_diri ={}"
   ]
  },
  {
   "cell_type": "code",
   "execution_count": 90,
   "id": "8cb91475",
   "metadata": {},
   "outputs": [
    {
     "name": "stdout",
     "output_type": "stream",
     "text": [
      "{}\n",
      "<class 'dict'>\n"
     ]
    }
   ],
   "source": [
    "print(data_diri)\n",
    "print(type(data_diri))"
   ]
  },
  {
   "cell_type": "code",
   "execution_count": 91,
   "id": "020c3e6d",
   "metadata": {},
   "outputs": [],
   "source": [
    "data_diri['nama_depan'] = \"Nur\"\n",
    "data_diri['nama_belakang'] = \"Khofifah\"\n",
    "data_diri['umur'] = 20\n",
    "data_diri['asal'] = \"Pemalang\"\n",
    "data_diri['makanan_favorit'] = ['soto','pecel']"
   ]
  },
  {
   "cell_type": "code",
   "execution_count": 92,
   "id": "a79f1696",
   "metadata": {},
   "outputs": [
    {
     "name": "stdout",
     "output_type": "stream",
     "text": [
      "{'nama_depan': 'Nur', 'nama_belakang': 'Khofifah', 'umur': 20, 'asal': 'Pemalang', 'makanan_favorit': ['soto', 'pecel']}\n"
     ]
    }
   ],
   "source": [
    "print(data_diri)"
   ]
  },
  {
   "cell_type": "code",
   "execution_count": 93,
   "id": "0ffdc969",
   "metadata": {},
   "outputs": [
    {
     "data": {
      "text/plain": [
       "['soto', 'pecel']"
      ]
     },
     "execution_count": 93,
     "metadata": {},
     "output_type": "execute_result"
    }
   ],
   "source": [
    "data_diri['makanan_favorit']"
   ]
  },
  {
   "cell_type": "code",
   "execution_count": 95,
   "id": "abb54284",
   "metadata": {},
   "outputs": [
    {
     "data": {
      "text/plain": [
       "dict_items([('pertama', 1), ('kedua', 2), ('ketiga', 3), ('keempat', 4)])"
      ]
     },
     "execution_count": 95,
     "metadata": {},
     "output_type": "execute_result"
    }
   ],
   "source": [
    "dictionary1.items()"
   ]
  },
  {
   "cell_type": "code",
   "execution_count": 96,
   "id": "30f936fb",
   "metadata": {},
   "outputs": [
    {
     "data": {
      "text/plain": [
       "dict_keys(['pertama', 'kedua', 'ketiga', 'keempat'])"
      ]
     },
     "execution_count": 96,
     "metadata": {},
     "output_type": "execute_result"
    }
   ],
   "source": [
    "dictionary1.keys()"
   ]
  },
  {
   "cell_type": "code",
   "execution_count": 97,
   "id": "d09106e4",
   "metadata": {},
   "outputs": [
    {
     "data": {
      "text/plain": [
       "dict_values([1, 2, 3, 4])"
      ]
     },
     "execution_count": 97,
     "metadata": {},
     "output_type": "execute_result"
    }
   ],
   "source": [
    "dictionary1.values()"
   ]
  },
  {
   "cell_type": "markdown",
   "id": "d875bd87",
   "metadata": {},
   "source": [
    "# Line Continuation\n",
    "digunakaan misal satu pernyataan dlm kode python sangat panjang."
   ]
  },
  {
   "cell_type": "code",
   "execution_count": 102,
   "id": "948e8f4d",
   "metadata": {},
   "outputs": [
    {
     "data": {
      "text/plain": [
       "True"
      ]
     },
     "execution_count": 102,
     "metadata": {},
     "output_type": "execute_result"
    }
   ],
   "source": [
    "person1_age = 42\n",
    "person2_age = 16\n",
    "person3_age = 71\n",
    "\n",
    "person1_age >= 18 and person1_age <= 65 or  (person2_age <=18 and person2_age <= 65)"
   ]
  },
  {
   "cell_type": "code",
   "execution_count": 100,
   "id": "268bd6d9",
   "metadata": {},
   "outputs": [
    {
     "data": {
      "text/plain": [
       "True"
      ]
     },
     "execution_count": 100,
     "metadata": {},
     "output_type": "execute_result"
    }
   ],
   "source": [
    "(\n",
    "    (person1_age >= 18 and person1_age <= 65) or \n",
    "(person2_age <=18 and person2_age <= 65)\n",
    ")"
   ]
  },
  {
   "cell_type": "code",
   "execution_count": null,
   "id": "bbda722b",
   "metadata": {},
   "outputs": [],
   "source": []
  }
 ],
 "metadata": {
  "kernelspec": {
   "display_name": "Python 3 (ipykernel)",
   "language": "python",
   "name": "python3"
  },
  "language_info": {
   "codemirror_mode": {
    "name": "ipython",
    "version": 3
   },
   "file_extension": ".py",
   "mimetype": "text/x-python",
   "name": "python",
   "nbconvert_exporter": "python",
   "pygments_lexer": "ipython3",
   "version": "3.9.13"
  }
 },
 "nbformat": 4,
 "nbformat_minor": 5
}
